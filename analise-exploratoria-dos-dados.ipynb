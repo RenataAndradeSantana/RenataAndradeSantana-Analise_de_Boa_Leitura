{
 "cells": [
  {
   "cell_type": "code",
   "execution_count": 2,
   "metadata": {},
   "outputs": [],
   "source": [
    "# Importações de bibliotecas\n",
    "import pandas as pd\n",
    "import numpy as np\n",
    "import matplotlib.pyplot as plt\n",
    "import seaborn as sns"
   ]
  },
  {
   "cell_type": "code",
   "execution_count": 3,
   "metadata": {},
   "outputs": [
    {
     "data": {
      "text/html": [
       "<div>\n",
       "<style scoped>\n",
       "    .dataframe tbody tr th:only-of-type {\n",
       "        vertical-align: middle;\n",
       "    }\n",
       "\n",
       "    .dataframe tbody tr th {\n",
       "        vertical-align: top;\n",
       "    }\n",
       "\n",
       "    .dataframe thead th {\n",
       "        text-align: right;\n",
       "    }\n",
       "</style>\n",
       "<table border=\"1\" class=\"dataframe\">\n",
       "  <thead>\n",
       "    <tr style=\"text-align: right;\">\n",
       "      <th></th>\n",
       "      <th>author</th>\n",
       "      <th>desc</th>\n",
       "      <th>genre</th>\n",
       "      <th>img</th>\n",
       "      <th>link</th>\n",
       "      <th>pages</th>\n",
       "      <th>rating</th>\n",
       "      <th>reviews</th>\n",
       "      <th>title</th>\n",
       "      <th>totalratings</th>\n",
       "    </tr>\n",
       "  </thead>\n",
       "  <tbody>\n",
       "    <tr>\n",
       "      <th>0</th>\n",
       "      <td>Laurence M. Hauptman</td>\n",
       "      <td>Reveals that several hundred thousand Indians ...</td>\n",
       "      <td>History,Military History,Civil War,American Hi...</td>\n",
       "      <td>https://i.gr-assets.com/images/S/compressed.ph...</td>\n",
       "      <td>https://goodreads.com/book/show/1001053.Betwee...</td>\n",
       "      <td>0</td>\n",
       "      <td>3.52</td>\n",
       "      <td>5</td>\n",
       "      <td>Between Two Fires: American Indians in the Civ...</td>\n",
       "      <td>33</td>\n",
       "    </tr>\n",
       "    <tr>\n",
       "      <th>1</th>\n",
       "      <td>Charlotte Fiell,Emmanuelle Dirix</td>\n",
       "      <td>Fashion Sourcebook - 1920s is the first book i...</td>\n",
       "      <td>Couture,Fashion,Historical,Art,Nonfiction</td>\n",
       "      <td>https://i.gr-assets.com/images/S/compressed.ph...</td>\n",
       "      <td>https://goodreads.com/book/show/10010552-fashi...</td>\n",
       "      <td>576</td>\n",
       "      <td>4.51</td>\n",
       "      <td>6</td>\n",
       "      <td>Fashion Sourcebook 1920s</td>\n",
       "      <td>41</td>\n",
       "    </tr>\n",
       "    <tr>\n",
       "      <th>2</th>\n",
       "      <td>Andy Anderson</td>\n",
       "      <td>The seminal history and analysis of the Hungar...</td>\n",
       "      <td>Politics,History</td>\n",
       "      <td>https://i.gr-assets.com/images/S/compressed.ph...</td>\n",
       "      <td>https://goodreads.com/book/show/1001077.Hungar...</td>\n",
       "      <td>124</td>\n",
       "      <td>4.15</td>\n",
       "      <td>2</td>\n",
       "      <td>Hungary 56</td>\n",
       "      <td>26</td>\n",
       "    </tr>\n",
       "    <tr>\n",
       "      <th>3</th>\n",
       "      <td>Carlotta R. Anderson</td>\n",
       "      <td>\"All-American Anarchist\" chronicles the life a...</td>\n",
       "      <td>Labor,History</td>\n",
       "      <td>https://i.gr-assets.com/images/S/compressed.ph...</td>\n",
       "      <td>https://goodreads.com/book/show/1001079.All_Am...</td>\n",
       "      <td>324</td>\n",
       "      <td>3.83</td>\n",
       "      <td>1</td>\n",
       "      <td>All-American Anarchist: Joseph A. Labadie and ...</td>\n",
       "      <td>6</td>\n",
       "    </tr>\n",
       "    <tr>\n",
       "      <th>4</th>\n",
       "      <td>Jeffrey Pfeffer</td>\n",
       "      <td>Why is common sense so uncommon when it comes ...</td>\n",
       "      <td>Business,Leadership,Romance,Historical Romance...</td>\n",
       "      <td>https://i.gr-assets.com/images/S/compressed.ph...</td>\n",
       "      <td>https://goodreads.com/book/show/1001090.The_Hu...</td>\n",
       "      <td>368</td>\n",
       "      <td>3.73</td>\n",
       "      <td>7</td>\n",
       "      <td>The Human Equation: Building Profits by Puttin...</td>\n",
       "      <td>119</td>\n",
       "    </tr>\n",
       "  </tbody>\n",
       "</table>\n",
       "</div>"
      ],
      "text/plain": [
       "                             author  \\\n",
       "0              Laurence M. Hauptman   \n",
       "1  Charlotte Fiell,Emmanuelle Dirix   \n",
       "2                     Andy Anderson   \n",
       "3              Carlotta R. Anderson   \n",
       "4                   Jeffrey Pfeffer   \n",
       "\n",
       "                                                desc  \\\n",
       "0  Reveals that several hundred thousand Indians ...   \n",
       "1  Fashion Sourcebook - 1920s is the first book i...   \n",
       "2  The seminal history and analysis of the Hungar...   \n",
       "3  \"All-American Anarchist\" chronicles the life a...   \n",
       "4  Why is common sense so uncommon when it comes ...   \n",
       "\n",
       "                                               genre  \\\n",
       "0  History,Military History,Civil War,American Hi...   \n",
       "1          Couture,Fashion,Historical,Art,Nonfiction   \n",
       "2                                   Politics,History   \n",
       "3                                      Labor,History   \n",
       "4  Business,Leadership,Romance,Historical Romance...   \n",
       "\n",
       "                                                 img  \\\n",
       "0  https://i.gr-assets.com/images/S/compressed.ph...   \n",
       "1  https://i.gr-assets.com/images/S/compressed.ph...   \n",
       "2  https://i.gr-assets.com/images/S/compressed.ph...   \n",
       "3  https://i.gr-assets.com/images/S/compressed.ph...   \n",
       "4  https://i.gr-assets.com/images/S/compressed.ph...   \n",
       "\n",
       "                                                link  pages  rating  reviews  \\\n",
       "0  https://goodreads.com/book/show/1001053.Betwee...      0    3.52        5   \n",
       "1  https://goodreads.com/book/show/10010552-fashi...    576    4.51        6   \n",
       "2  https://goodreads.com/book/show/1001077.Hungar...    124    4.15        2   \n",
       "3  https://goodreads.com/book/show/1001079.All_Am...    324    3.83        1   \n",
       "4  https://goodreads.com/book/show/1001090.The_Hu...    368    3.73        7   \n",
       "\n",
       "                                               title  totalratings  \n",
       "0  Between Two Fires: American Indians in the Civ...            33  \n",
       "1                           Fashion Sourcebook 1920s            41  \n",
       "2                                         Hungary 56            26  \n",
       "3  All-American Anarchist: Joseph A. Labadie and ...             6  \n",
       "4  The Human Equation: Building Profits by Puttin...           119  "
      ]
     },
     "execution_count": 3,
     "metadata": {},
     "output_type": "execute_result"
    }
   ],
   "source": [
    "# Ler o arquivo\n",
    "df = pd.read_csv(r'C:\\Users\\renat\\RenataAndradeSantana-Analise_de_Boa_Leitura\\oodReads_books_limpo.csv', encoding= 'utf-8-sig')\n",
    "df.head()"
   ]
  },
  {
   "cell_type": "markdown",
   "metadata": {},
   "source": [
    "#Explorar e visualizar a distribuição de classificação (ratings), gênero (genre) e autores(author) mais populares"
   ]
  },
  {
   "cell_type": "code",
   "execution_count": 4,
   "metadata": {},
   "outputs": [
    {
     "data": {
      "image/png": "[encoded data removed]",
      "text/plain": [
       "<Figure size 720x432 with 1 Axes>"
      ]
     },
     "metadata": {
      "needs_background": "light"
     },
     "output_type": "display_data"
    }
   ],
   "source": [
    "plt.figure(figsize=(10, 6))\n",
    "plt.hist(df['rating'], bins=20, color='skyblue', edgecolor='black')\n",
    "plt.title('Distribuição de Classificação')\n",
    "plt.xlabel('Classificação')\n",
    "plt.ylabel('Frequência')\n",
    "plt.show()\n"
   ]
  },
  {
   "cell_type": "code",
   "execution_count": 5,
   "metadata": {},
   "outputs": [
    {
     "data": {
      "text/plain": [
       "70037"
      ]
     },
     "execution_count": 5,
     "metadata": {},
     "output_type": "execute_result"
    }
   ],
   "source": [
    "# Generos mais avaliados:\n",
    "df['genre'].nunique()"
   ]
  },
  {
   "cell_type": "code",
   "execution_count": 6,
   "metadata": {},
   "outputs": [
    {
     "data": {
      "text/plain": [
       "genre\n",
       "Nonfiction                                 1569.99\n",
       "History                                    1383.17\n",
       "Games,Chess                                 711.12\n",
       "Esoterica,Astrology                         624.12\n",
       "History,Nonfiction                          481.49\n",
       "                                            ...   \n",
       "History,Japanese History,Nonfiction           0.00\n",
       "Anthropology,Ethnography,Cultural,China       0.00\n",
       "Feminism,Gender                               0.00\n",
       "Computers,Internet,Internet,Web               0.00\n",
       "Sequential Art,Cartoon                        0.00\n",
       "Name: rating, Length: 70037, dtype: float64"
      ]
     },
     "execution_count": 6,
     "metadata": {},
     "output_type": "execute_result"
    }
   ],
   "source": [
    "df.groupby('genre')['rating'].sum().sort_values(ascending=False)\n"
   ]
  },
  {
   "cell_type": "code",
   "execution_count": 7,
   "metadata": {},
   "outputs": [
    {
     "data": {
      "text/plain": [
       "0        History, Military History\n",
       "1                 Couture, Fashion\n",
       "2                Politics, History\n",
       "3                   Labor, History\n",
       "4             Business, Leadership\n",
       "                   ...            \n",
       "84846      Nonfiction, Environment\n",
       "84847           Animals, Childrens\n",
       "84848     Christianity, Evangelism\n",
       "84849          Nonfiction, History\n",
       "84850          Fantasy, Paranormal\n",
       "Name: genre, Length: 84851, dtype: object"
      ]
     },
     "execution_count": 7,
     "metadata": {},
     "output_type": "execute_result"
    }
   ],
   "source": [
    "# Considerando o primeiro e segundo gênero como sendo o gênero mais significante de livro\n",
    "df['genre'] = df['genre'].str.split(',').str[:2]  # Dividir e pegar apenas os dois primeiros gêneros\n",
    "df['genre']= df['genre'].apply(lambda x: ', '.join(x))# Converter a lista em string, separando os gêneros por vírgula\n",
    "df['genre'] "
   ]
  },
  {
   "cell_type": "code",
   "execution_count": 8,
   "metadata": {},
   "outputs": [
    {
     "data": {
      "text/plain": [
       "genre\n",
       "Childrens, Picture Books          2519\n",
       "Sequential Art, Manga             2210\n",
       "History, Nonfiction               1972\n",
       "Historical, Historical Fiction    1960\n",
       "Sequential Art, Comics            1821\n",
       "                                  ... \n",
       "Sociology, Marriage                  1\n",
       "Leadership, Psychology               1\n",
       "Humor, Holiday                       1\n",
       "Historical, Adult Fiction            1\n",
       "Reference, Couture                   1\n",
       "Name: count, Length: 3167, dtype: int64"
      ]
     },
     "execution_count": 8,
     "metadata": {},
     "output_type": "execute_result"
    }
   ],
   "source": [
    "generos_count  = df['genre'].value_counts()\n",
    "generos_count"
   ]
  },
  {
   "cell_type": "code",
   "execution_count": 9,
   "metadata": {},
   "outputs": [
    {
     "data": {
      "text/plain": [
       "genre\n",
       "Childrens, Picture Books          2519\n",
       "Sequential Art, Manga             2210\n",
       "History, Nonfiction               1972\n",
       "Historical, Historical Fiction    1960\n",
       "Sequential Art, Comics            1821\n",
       "Romance, M M Romance              1610\n",
       "Romance, Romance                  1313\n",
       "Romance, Historical Romance        989\n",
       "Food and Drink, Cookbooks          886\n",
       "Mystery, Fiction                   838\n",
       "Name: count, dtype: int64"
      ]
     },
     "execution_count": 9,
     "metadata": {},
     "output_type": "execute_result"
    }
   ],
   "source": [
    "# Filtrar apenas os gêneros com contagem maior que 100\n",
    "generos_filtrados = generos_count[generos_count > 800]\n",
    "generos_filtrados "
   ]
  },
  {
   "cell_type": "code",
   "execution_count": 10,
   "metadata": {},
   "outputs": [
    {
     "data": {
      "image/png": "[encoded data removed]",
      "text/plain": [
       "<Figure size 864x432 with 1 Axes>"
      ]
     },
     "metadata": {
      "needs_background": "light"
     },
     "output_type": "display_data"
    }
   ],
   "source": [
    "# Gráfico de barras dos gêneros mais comuns\n",
    "plt.figure(figsize=(12, 6))\n",
    "generos_filtrados .plot(kind='bar', color='lightcoral', edgecolor='black')\n",
    "plt.title('Top 10 Gêneros Mais Comuns')\n",
    "plt.xlabel('Gênero')\n",
    "plt.ylabel('Frequência')\n",
    "plt.xticks(rotation=45)\n",
    "plt.show()"
   ]
  },
  {
   "cell_type": "code",
   "execution_count": 11,
   "metadata": {},
   "outputs": [
    {
     "data": {
      "text/plain": [
       "author\n",
       "R.L. Stine              71\n",
       "Lynn Hagen              62\n",
       "Elinor M. Brent-Dyer    59\n",
       "Lynne Graham            55\n",
       "Louis L'Amour           55\n",
       "Joyee Flynn             53\n",
       "Agatha Christie         52\n",
       "Bonnie Bryant           48\n",
       "Harry Turtledove        46\n",
       "Mi-Ri Hwang             46\n",
       "Name: count, dtype: int64"
      ]
     },
     "execution_count": 11,
     "metadata": {},
     "output_type": "execute_result"
    }
   ],
   "source": [
    "# Contar a frequência de cada autor\n",
    "autores_count = df['author'].value_counts().head(10)  # Top 10 autores\n",
    "autores_count"
   ]
  },
  {
   "cell_type": "code",
   "execution_count": 12,
   "metadata": {},
   "outputs": [
    {
     "data": {
      "image/png": "[encoded data removed]",
      "text/plain": [
       "<Figure size 864x432 with 1 Axes>"
      ]
     },
     "metadata": {
      "needs_background": "light"
     },
     "output_type": "display_data"
    }
   ],
   "source": [
    "# Gráfico de barras dos autores mais populares\n",
    "plt.figure(figsize=(12, 6))\n",
    "autores_count.plot(kind='bar', color='lightgreen', edgecolor='black')\n",
    "plt.title('Top 10 Autores Mais Populares')\n",
    "plt.xlabel('Autor')\n",
    "plt.ylabel('Frequência')\n",
    "plt.xticks(rotation=45)\n",
    "plt.show()\n"
   ]
  },
  {
   "cell_type": "markdown",
   "metadata": {},
   "source": [
    "#Estatística do libro mais ou menos bem avaliado"
   ]
  },
  {
   "cell_type": "code",
   "execution_count": 13,
   "metadata": {},
   "outputs": [
    {
     "data": {
      "text/plain": [
       "count    84851.000000\n",
       "mean         3.893095\n",
       "std          0.366897\n",
       "min          0.000000\n",
       "25%          3.690000\n",
       "50%          3.910000\n",
       "75%          4.130000\n",
       "max          5.000000\n",
       "Name: rating, dtype: float64"
      ]
     },
     "execution_count": 13,
     "metadata": {},
     "output_type": "execute_result"
    }
   ],
   "source": [
    "df['rating'].describe()"
   ]
  },
  {
   "cell_type": "code",
   "execution_count": 14,
   "metadata": {},
   "outputs": [
    {
     "data": {
      "image/png": "[encoded data removed]",
      "text/plain": [
       "<Figure size 720x432 with 1 Axes>"
      ]
     },
     "metadata": {
      "needs_background": "light"
     },
     "output_type": "display_data"
    }
   ],
   "source": [
    "# Visualização da distribuição das avaliações\n",
    "plt.figure(figsize=(10, 6))\n",
    "plt.hist(df['rating'], bins=20, color='skyblue', edgecolor='black')\n",
    "plt.title('Distribuição das Avaliações dos Livros')\n",
    "plt.xlabel('Avaliação')\n",
    "plt.ylabel('Frequência')\n",
    "plt.show()\n",
    "\n"
   ]
  },
  {
   "cell_type": "code",
   "execution_count": 15,
   "metadata": {},
   "outputs": [
    {
     "data": {
      "image/png": "[encoded data removed]",
      "text/plain": [
       "<Figure size 720x432 with 1 Axes>"
      ]
     },
     "metadata": {
      "needs_background": "light"
     },
     "output_type": "display_data"
    }
   ],
   "source": [
    "# Boxplot para ver a distribuição da avaliação\n",
    "plt.figure(figsize=(10, 6))\n",
    "sns.boxplot(x=df['rating'], color='lightcoral')\n",
    "plt.title('Boxplot das Avaliações dos Livros')\n",
    "plt.xlabel('Avaliação')\n",
    "plt.show()"
   ]
  },
  {
   "cell_type": "code",
   "execution_count": 19,
   "metadata": {},
   "outputs": [
    {
     "data": {
      "text/plain": [
       "title\n",
       "\"Daisuki.\"                                                                               3.77\n",
       "\"Dark Pictures\" and Other Stories                                                        3.60\n",
       "\"Defects\": Engendering the Modern Body                                                   4.50\n",
       "\"Have-More\" Plan, The                                                                    4.36\n",
       "\"Headhunter\" Hiring Secrets: The Rules of the Hiring Game Have Changed . . . Forever!    3.72\n",
       "                                                                                         ... \n",
       "ì•„ì´ëŒ ì‡¼í•‘. 7                                                                      3.90\n",
       "ì•„ì´ëŒ ì‡¼í•‘. 8                                                                      3.96\n",
       "ì•…ì˜ ê½ƒ 5                                                                             3.95\n",
       "í•˜ë°±ì˜ ì‹ ë¶€ 14                                                                      3.95\n",
       "í•˜ë°±ì˜ ì‹ ë¶€ 15                                                                      3.92\n",
       "Name: rating, Length: 82759, dtype: float64"
      ]
     },
     "execution_count": 19,
     "metadata": {},
     "output_type": "execute_result"
    }
   ],
   "source": [
    "# 1.Títulos Mais Bem Avaliados (média de avaliação)\n",
    "top_avaliados = df.groupby('title')['rating'].mean()\n",
    "top_avaliados\n"
   ]
  },
  {
   "cell_type": "code",
   "execution_count": 17,
   "metadata": {},
   "outputs": [
    {
     "data": {
      "text/plain": [
       "title\n",
       "50 Fabulous Pineapple Motifs to Crochet (Leisure Arts #4864)                                                                                     5.0\n",
       "A Mediterranean Society, Volume V: The Jewish Communities of the Arab World as Portrayed in the Documents of the Cairo Geniza, The Individual    5.0\n",
       "A Palaeographic Study of Early Writing in Egypt                                                                                                  5.0\n",
       "A Political Companion to Ralph Waldo Emerson                                                                                                     5.0\n",
       "African Zion: Studies in Black Judaism                                                                                                           5.0\n",
       "                                                                                                                                                ... \n",
       "Work Under Capitalism (New Perspectives in Sociology (Boulder, Colo.)                                                                            5.0\n",
       "Wrestling with Nature: From Omens to Science                                                                                                     5.0\n",
       "Writing Science: Medical and Mathematical Authorship in Ancient Greece                                                                           5.0\n",
       "Zainul Abedin: Great Masters of Bangladesh                                                                                                       5.0\n",
       "Ð ÑƒÑÑÐºÐ°Ñ Ð¸ÑÑ‚Ð¾Ñ€Ð¸Ñ Ð² Ð¶Ð¸Ð·Ð½ÐµÐ¾Ð¿Ð¸ÑÐ°Ð½Ð¸ÑÑ… ÐµÐµ Ð³Ð»Ð°Ð²Ð½ÐµÐ¹ÑˆÐ¸Ñ… Ð´ÐµÑÑ‚ÐµÐ»ÐµÐ¹                                         5.0\n",
       "Name: rating, Length: 135, dtype: float64"
      ]
     },
     "execution_count": 17,
     "metadata": {},
     "output_type": "execute_result"
    }
   ],
   "source": [
    "tops_5 = top_avaliados[top_avaliados >=5]\n",
    "tops_5"
   ]
  },
  {
   "cell_type": "code",
   "execution_count": 18,
   "metadata": {},
   "outputs": [
    {
     "data": {
      "text/plain": [
       "135"
      ]
     },
     "execution_count": 18,
     "metadata": {},
     "output_type": "execute_result"
    }
   ],
   "source": [
    "tops_5.count()"
   ]
  },
  {
   "cell_type": "code",
   "execution_count": 20,
   "metadata": {},
   "outputs": [
    {
     "data": {
      "text/plain": [
       "title\n",
       "24-Hour Sewing Projects                                                                                                    2.00\n",
       "A History of Chemistry from Earliest Times to the Present Day                                                              0.00\n",
       "A Megabyte Of Computer Jokes (Joke Books S.)                                                                               0.00\n",
       "A Political History of the Civil War in Angola, 1974-1990                                                                  0.00\n",
       "A Princesa Do Gelo (DN Contos Digitais, #26)                                                                               1.68\n",
       "                                                                                                                           ... \n",
       "Warship 1999-2000                                                                                                          0.00\n",
       "Weimar Culture and Quantum Mechanics: Selected Papers by Paul Forman and Contemporary Perspectives on the Forman Thesis    0.00\n",
       "Women's Anger: Clinical and Developmental Perspectives                                                                     0.00\n",
       "Writing Jazz: Race, Nationalism, and Modern Culture in the 1920s                                                           2.00\n",
       "Zombie Roller Derby Chicks From Hell: A Dead Crow Book                                                                     0.00\n",
       "Name: rating, Length: 122, dtype: float64"
      ]
     },
     "execution_count": 20,
     "metadata": {},
     "output_type": "execute_result"
    }
   ],
   "source": [
    "tops_menor_nota = top_avaliados[top_avaliados <=2]\n",
    "tops_menor_nota "
   ]
  },
  {
   "cell_type": "code",
   "execution_count": 21,
   "metadata": {},
   "outputs": [
    {
     "data": {
      "text/plain": [
       "122"
      ]
     },
     "execution_count": 21,
     "metadata": {},
     "output_type": "execute_result"
    }
   ],
   "source": [
    "tops_menor_nota.count()"
   ]
  },
  {
   "cell_type": "code",
   "execution_count": 22,
   "metadata": {},
   "outputs": [
    {
     "name": "stdout",
     "output_type": "stream",
     "text": [
      "Top 5 Livros Mais Bem Avaliados:\n",
      "                                                   title  rating\n",
      "34             Ru 486: Misconceptions, Myths, and Morals     5.0\n",
      "71                Jazz Country: Ralph Ellison in America     5.0\n",
      "130    Queen's Mate: Three Women of Power in France o...     5.0\n",
      "792    Offerings to the Discerning Eye: An Egyptologi...     5.0\n",
      "852    The Adventure of Reason: Interplay Between Phi...     5.0\n",
      "...                                                  ...     ...\n",
      "59041  Eastern Influences on Western Philosophy: A Re...     5.0\n",
      "59267              Newton and the Origin of Civilization     5.0\n",
      "59413                                      Rhodesia File     5.0\n",
      "59531  Becoming Plural: Travels in the Sudan, Travels...     5.0\n",
      "60619                                       James Havard     5.0\n",
      "\n",
      "[100 rows x 2 columns]\n"
     ]
    }
   ],
   "source": [
    "# Top dos livros com melhor avaliação (notas = 5)\n",
    "top_5_livros = df[['title', 'rating']].nlargest(100, 'rating')\n",
    "print(\"Top 5 Livros Mais Bem Avaliados:\")\n",
    "print(top_5_livros)"
   ]
  },
  {
   "cell_type": "code",
   "execution_count": 23,
   "metadata": {},
   "outputs": [
    {
     "name": "stdout",
     "output_type": "stream",
     "text": [
      "Top 5 Livros Menos Bem Avaliados:\n",
      "                                                   title  rating\n",
      "206    The Unemployed People's Movement: Leftists, Li...    0.00\n",
      "286                  Foliations and Geometric Structures    0.00\n",
      "1304              Mac 2000: Cartoons from the Daily Mail    0.00\n",
      "1466                                Russia and the Peace    0.00\n",
      "2967                                   That Imp Marcella    0.00\n",
      "...                                                  ...     ...\n",
      "73707  Um rio chamado AngÃºstia (DN Contos Digitais, #5)    1.85\n",
      "64844  Sucking the Soccer Players: The Player and Coa...    1.92\n",
      "4102                                             Stretch    1.95\n",
      "75117      Defensor do VÃ­nculo (DN Contos Digitais #12)    1.95\n",
      "502           The Alterman Gambit Guide: Black Gambits 1    2.00\n",
      "\n",
      "[100 rows x 2 columns]\n"
     ]
    }
   ],
   "source": [
    "# Top 5 livros com pior avaliação (menor rating notas menores que 2)\n",
    "piores_5_livros = df[['title', 'rating']].nsmallest(100, 'rating')\n",
    "print(\"Top 5 Livros Menos Bem Avaliados:\")\n",
    "print(piores_5_livros)"
   ]
  },
  {
   "cell_type": "code",
   "execution_count": 24,
   "metadata": {},
   "outputs": [
    {
     "name": "stdout",
     "output_type": "stream",
     "text": [
      "\n",
      "Estatísticas para os Top 5 Livros Mais Bem Avaliados:\n",
      "count    100.0\n",
      "mean       5.0\n",
      "std        0.0\n",
      "min        5.0\n",
      "25%        5.0\n",
      "50%        5.0\n",
      "75%        5.0\n",
      "max        5.0\n",
      "Name: rating, dtype: float64\n"
     ]
    }
   ],
   "source": [
    "# Estatísticas para os Top 135 livros mais bem avaliados com nota 5\n",
    "top_5_stats = top_5_livros['rating'].describe()\n",
    "print(\"\\nEstatísticas para os Top 5 Livros Mais Bem Avaliados:\")\n",
    "print(top_5_stats)\n",
    "\n"
   ]
  }
 ],
 "metadata": {
  "kernelspec": {
   "display_name": "Python 3",
   "language": "python",
   "name": "python3"
  },
  "language_info": {
   "codemirror_mode": {
    "name": "ipython",
    "version": 3
   },
   "file_extension": ".py",
   "mimetype": "text/x-python",
   "name": "python",
   "nbconvert_exporter": "python",
   "pygments_lexer": "ipython3",
   "version": "3.10.11"
  }
 },
 "nbformat": 4,
 "nbformat_minor": 2
}
