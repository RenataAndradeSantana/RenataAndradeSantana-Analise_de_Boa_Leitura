{
 "cells": [
  {
   "cell_type": "code",
   "execution_count": 1,
   "metadata": {},
   "outputs": [],
   "source": [
    "# Importações de bibliotecas\n",
    "import pandas as pd\n",
    "import numpy as np\n",
    "import matplotlib.pyplot as plt"
   ]
  },
  {
   "cell_type": "code",
   "execution_count": 4,
   "metadata": {},
   "outputs": [
    {
     "data": {
      "text/html": [
       "<div>\n",
       "<style scoped>\n",
       "    .dataframe tbody tr th:only-of-type {\n",
       "        vertical-align: middle;\n",
       "    }\n",
       "\n",
       "    .dataframe tbody tr th {\n",
       "        vertical-align: top;\n",
       "    }\n",
       "\n",
       "    .dataframe thead th {\n",
       "        text-align: right;\n",
       "    }\n",
       "</style>\n",
       "<table border=\"1\" class=\"dataframe\">\n",
       "  <thead>\n",
       "    <tr style=\"text-align: right;\">\n",
       "      <th></th>\n",
       "      <th>author</th>\n",
       "      <th>bookformat</th>\n",
       "      <th>desc</th>\n",
       "      <th>genre</th>\n",
       "      <th>img</th>\n",
       "      <th>isbn</th>\n",
       "      <th>isbn13</th>\n",
       "      <th>link</th>\n",
       "      <th>pages</th>\n",
       "      <th>rating</th>\n",
       "      <th>reviews</th>\n",
       "      <th>title</th>\n",
       "      <th>totalratings</th>\n",
       "    </tr>\n",
       "  </thead>\n",
       "  <tbody>\n",
       "    <tr>\n",
       "      <th>0</th>\n",
       "      <td>Laurence M. Hauptman</td>\n",
       "      <td>Hardcover</td>\n",
       "      <td>Reveals that several hundred thousand Indians ...</td>\n",
       "      <td>History,Military History,Civil War,American Hi...</td>\n",
       "      <td>https://i.gr-assets.com/images/S/compressed.ph...</td>\n",
       "      <td>002914180X</td>\n",
       "      <td>9.78E+12</td>\n",
       "      <td>https://goodreads.com/book/show/1001053.Betwee...</td>\n",
       "      <td>0</td>\n",
       "      <td>3.52</td>\n",
       "      <td>5</td>\n",
       "      <td>Between Two Fires: American Indians in the Civ...</td>\n",
       "      <td>33</td>\n",
       "    </tr>\n",
       "    <tr>\n",
       "      <th>1</th>\n",
       "      <td>Charlotte Fiell,Emmanuelle Dirix</td>\n",
       "      <td>Paperback</td>\n",
       "      <td>Fashion Sourcebook - 1920s is the first book i...</td>\n",
       "      <td>Couture,Fashion,Historical,Art,Nonfiction</td>\n",
       "      <td>https://i.gr-assets.com/images/S/compressed.ph...</td>\n",
       "      <td>1906863482</td>\n",
       "      <td>9.78E+12</td>\n",
       "      <td>https://goodreads.com/book/show/10010552-fashi...</td>\n",
       "      <td>576</td>\n",
       "      <td>4.51</td>\n",
       "      <td>6</td>\n",
       "      <td>Fashion Sourcebook 1920s</td>\n",
       "      <td>41</td>\n",
       "    </tr>\n",
       "    <tr>\n",
       "      <th>2</th>\n",
       "      <td>Andy Anderson</td>\n",
       "      <td>Paperback</td>\n",
       "      <td>The seminal history and analysis of the Hungar...</td>\n",
       "      <td>Politics,History</td>\n",
       "      <td>https://i.gr-assets.com/images/S/compressed.ph...</td>\n",
       "      <td>948984147</td>\n",
       "      <td>9.78E+12</td>\n",
       "      <td>https://goodreads.com/book/show/1001077.Hungar...</td>\n",
       "      <td>124</td>\n",
       "      <td>4.15</td>\n",
       "      <td>2</td>\n",
       "      <td>Hungary 56</td>\n",
       "      <td>26</td>\n",
       "    </tr>\n",
       "    <tr>\n",
       "      <th>3</th>\n",
       "      <td>Carlotta R. Anderson</td>\n",
       "      <td>Hardcover</td>\n",
       "      <td>\"All-American Anarchist\" chronicles the life a...</td>\n",
       "      <td>Labor,History</td>\n",
       "      <td>https://i.gr-assets.com/images/S/compressed.ph...</td>\n",
       "      <td>814327079</td>\n",
       "      <td>9.78E+12</td>\n",
       "      <td>https://goodreads.com/book/show/1001079.All_Am...</td>\n",
       "      <td>324</td>\n",
       "      <td>3.83</td>\n",
       "      <td>1</td>\n",
       "      <td>All-American Anarchist: Joseph A. Labadie and ...</td>\n",
       "      <td>6</td>\n",
       "    </tr>\n",
       "    <tr>\n",
       "      <th>4</th>\n",
       "      <td>Jean Leveille</td>\n",
       "      <td>NaN</td>\n",
       "      <td>Aujourdâ€™hui, lâ€™oiseau nous invite Ã  sa ta...</td>\n",
       "      <td>NaN</td>\n",
       "      <td>https://i.gr-assets.com/images/S/compressed.ph...</td>\n",
       "      <td>2761920813</td>\n",
       "      <td>NaN</td>\n",
       "      <td>https://goodreads.com/book/show/10010880-les-o...</td>\n",
       "      <td>177</td>\n",
       "      <td>4.00</td>\n",
       "      <td>1</td>\n",
       "      <td>Les oiseaux gourmands</td>\n",
       "      <td>1</td>\n",
       "    </tr>\n",
       "    <tr>\n",
       "      <th>...</th>\n",
       "      <td>...</td>\n",
       "      <td>...</td>\n",
       "      <td>...</td>\n",
       "      <td>...</td>\n",
       "      <td>...</td>\n",
       "      <td>...</td>\n",
       "      <td>...</td>\n",
       "      <td>...</td>\n",
       "      <td>...</td>\n",
       "      <td>...</td>\n",
       "      <td>...</td>\n",
       "      <td>...</td>\n",
       "      <td>...</td>\n",
       "    </tr>\n",
       "    <tr>\n",
       "      <th>99995</th>\n",
       "      <td>Simon Monk</td>\n",
       "      <td>ebook</td>\n",
       "      <td>Design custom printed circuit boards with EAGL...</td>\n",
       "      <td>NaN</td>\n",
       "      <td>https://i.gr-assets.com/images/S/compressed.ph...</td>\n",
       "      <td>71819266</td>\n",
       "      <td>9.78007E+12</td>\n",
       "      <td>https://goodreads.com/book/show/17320181-make-...</td>\n",
       "      <td>304</td>\n",
       "      <td>4.07</td>\n",
       "      <td>7</td>\n",
       "      <td>Make Your Own PCBs with Eagle: From Schematic ...</td>\n",
       "      <td>56</td>\n",
       "    </tr>\n",
       "    <tr>\n",
       "      <th>99996</th>\n",
       "      <td>Tracie L. Miller-Nobles,Brenda L. Mattison,Ell...</td>\n",
       "      <td>Hardcover</td>\n",
       "      <td>Redefining tradition in learning accounting. ,...</td>\n",
       "      <td>NaN</td>\n",
       "      <td>https://i.gr-assets.com/images/S/compressed.ph...</td>\n",
       "      <td>133251241</td>\n",
       "      <td>9.78013E+12</td>\n",
       "      <td>https://goodreads.com/book/show/17320260-horng...</td>\n",
       "      <td>1645</td>\n",
       "      <td>4.05</td>\n",
       "      <td>1</td>\n",
       "      <td>Horngren's Financial &amp; Managerial Accounting</td>\n",
       "      <td>38</td>\n",
       "    </tr>\n",
       "    <tr>\n",
       "      <th>99997</th>\n",
       "      <td>C. John Miller</td>\n",
       "      <td>Paperback</td>\n",
       "      <td>In these warm reflections on his own growth as...</td>\n",
       "      <td>Christianity,Evangelism,Christian,Religion,The...</td>\n",
       "      <td>https://i.gr-assets.com/images/S/compressed.ph...</td>\n",
       "      <td>875523919</td>\n",
       "      <td>9.78088E+12</td>\n",
       "      <td>https://goodreads.com/book/show/173203.A_Faith...</td>\n",
       "      <td>160</td>\n",
       "      <td>4.27</td>\n",
       "      <td>20</td>\n",
       "      <td>A Faith Worth Sharing: A Lifetime of Conversat...</td>\n",
       "      <td>122</td>\n",
       "    </tr>\n",
       "    <tr>\n",
       "      <th>99998</th>\n",
       "      <td>Albert Marrin</td>\n",
       "      <td>Hardcover</td>\n",
       "      <td>John Brown is a man of many legacies, from her...</td>\n",
       "      <td>Nonfiction,History,Biography,Military History,...</td>\n",
       "      <td>https://i.gr-assets.com/images/S/compressed.ph...</td>\n",
       "      <td>307981533</td>\n",
       "      <td>9.78031E+12</td>\n",
       "      <td>https://goodreads.com/book/show/17320669-a-vol...</td>\n",
       "      <td>256</td>\n",
       "      <td>3.63</td>\n",
       "      <td>51</td>\n",
       "      <td>A Volcano Beneath the Snow: John Brown's War A...</td>\n",
       "      <td>156</td>\n",
       "    </tr>\n",
       "    <tr>\n",
       "      <th>99999</th>\n",
       "      <td>Marc E. Fitch</td>\n",
       "      <td>ebook</td>\n",
       "      <td>Did you know that interest in UFO research inc...</td>\n",
       "      <td>Fantasy,Paranormal,Nonfiction</td>\n",
       "      <td>https://i.gr-assets.com/images/S/compressed.ph...</td>\n",
       "      <td>313382077</td>\n",
       "      <td>9.78031E+12</td>\n",
       "      <td>https://goodreads.com/book/show/17320689-paran...</td>\n",
       "      <td>398</td>\n",
       "      <td>3.83</td>\n",
       "      <td>3</td>\n",
       "      <td>Paranormal Nation: Why America Needs Ghosts, U...</td>\n",
       "      <td>12</td>\n",
       "    </tr>\n",
       "  </tbody>\n",
       "</table>\n",
       "<p>100000 rows × 13 columns</p>\n",
       "</div>"
      ],
      "text/plain": [
       "                                                  author bookformat  \\\n",
       "0                                   Laurence M. Hauptman  Hardcover   \n",
       "1                       Charlotte Fiell,Emmanuelle Dirix  Paperback   \n",
       "2                                          Andy Anderson  Paperback   \n",
       "3                                   Carlotta R. Anderson  Hardcover   \n",
       "4                                          Jean Leveille        NaN   \n",
       "...                                                  ...        ...   \n",
       "99995                                         Simon Monk      ebook   \n",
       "99996  Tracie L. Miller-Nobles,Brenda L. Mattison,Ell...  Hardcover   \n",
       "99997                                     C. John Miller  Paperback   \n",
       "99998                                      Albert Marrin  Hardcover   \n",
       "99999                                      Marc E. Fitch      ebook   \n",
       "\n",
       "                                                    desc  \\\n",
       "0      Reveals that several hundred thousand Indians ...   \n",
       "1      Fashion Sourcebook - 1920s is the first book i...   \n",
       "2      The seminal history and analysis of the Hungar...   \n",
       "3      \"All-American Anarchist\" chronicles the life a...   \n",
       "4      Aujourdâ€™hui, lâ€™oiseau nous invite Ã  sa ta...   \n",
       "...                                                  ...   \n",
       "99995  Design custom printed circuit boards with EAGL...   \n",
       "99996  Redefining tradition in learning accounting. ,...   \n",
       "99997  In these warm reflections on his own growth as...   \n",
       "99998  John Brown is a man of many legacies, from her...   \n",
       "99999  Did you know that interest in UFO research inc...   \n",
       "\n",
       "                                                   genre  \\\n",
       "0      History,Military History,Civil War,American Hi...   \n",
       "1              Couture,Fashion,Historical,Art,Nonfiction   \n",
       "2                                       Politics,History   \n",
       "3                                          Labor,History   \n",
       "4                                                    NaN   \n",
       "...                                                  ...   \n",
       "99995                                                NaN   \n",
       "99996                                                NaN   \n",
       "99997  Christianity,Evangelism,Christian,Religion,The...   \n",
       "99998  Nonfiction,History,Biography,Military History,...   \n",
       "99999                      Fantasy,Paranormal,Nonfiction   \n",
       "\n",
       "                                                     img        isbn  \\\n",
       "0      https://i.gr-assets.com/images/S/compressed.ph...  002914180X   \n",
       "1      https://i.gr-assets.com/images/S/compressed.ph...  1906863482   \n",
       "2      https://i.gr-assets.com/images/S/compressed.ph...   948984147   \n",
       "3      https://i.gr-assets.com/images/S/compressed.ph...   814327079   \n",
       "4      https://i.gr-assets.com/images/S/compressed.ph...  2761920813   \n",
       "...                                                  ...         ...   \n",
       "99995  https://i.gr-assets.com/images/S/compressed.ph...    71819266   \n",
       "99996  https://i.gr-assets.com/images/S/compressed.ph...   133251241   \n",
       "99997  https://i.gr-assets.com/images/S/compressed.ph...   875523919   \n",
       "99998  https://i.gr-assets.com/images/S/compressed.ph...   307981533   \n",
       "99999  https://i.gr-assets.com/images/S/compressed.ph...   313382077   \n",
       "\n",
       "            isbn13                                               link  pages  \\\n",
       "0         9.78E+12  https://goodreads.com/book/show/1001053.Betwee...      0   \n",
       "1         9.78E+12  https://goodreads.com/book/show/10010552-fashi...    576   \n",
       "2         9.78E+12  https://goodreads.com/book/show/1001077.Hungar...    124   \n",
       "3         9.78E+12  https://goodreads.com/book/show/1001079.All_Am...    324   \n",
       "4              NaN  https://goodreads.com/book/show/10010880-les-o...    177   \n",
       "...            ...                                                ...    ...   \n",
       "99995  9.78007E+12  https://goodreads.com/book/show/17320181-make-...    304   \n",
       "99996  9.78013E+12  https://goodreads.com/book/show/17320260-horng...   1645   \n",
       "99997  9.78088E+12  https://goodreads.com/book/show/173203.A_Faith...    160   \n",
       "99998  9.78031E+12  https://goodreads.com/book/show/17320669-a-vol...    256   \n",
       "99999  9.78031E+12  https://goodreads.com/book/show/17320689-paran...    398   \n",
       "\n",
       "       rating  reviews                                              title  \\\n",
       "0        3.52        5  Between Two Fires: American Indians in the Civ...   \n",
       "1        4.51        6                           Fashion Sourcebook 1920s   \n",
       "2        4.15        2                                         Hungary 56   \n",
       "3        3.83        1  All-American Anarchist: Joseph A. Labadie and ...   \n",
       "4        4.00        1                              Les oiseaux gourmands   \n",
       "...       ...      ...                                                ...   \n",
       "99995    4.07        7  Make Your Own PCBs with Eagle: From Schematic ...   \n",
       "99996    4.05        1       Horngren's Financial & Managerial Accounting   \n",
       "99997    4.27       20  A Faith Worth Sharing: A Lifetime of Conversat...   \n",
       "99998    3.63       51  A Volcano Beneath the Snow: John Brown's War A...   \n",
       "99999    3.83        3  Paranormal Nation: Why America Needs Ghosts, U...   \n",
       "\n",
       "       totalratings  \n",
       "0                33  \n",
       "1                41  \n",
       "2                26  \n",
       "3                 6  \n",
       "4                 1  \n",
       "...             ...  \n",
       "99995            56  \n",
       "99996            38  \n",
       "99997           122  \n",
       "99998           156  \n",
       "99999            12  \n",
       "\n",
       "[100000 rows x 13 columns]"
      ]
     },
     "execution_count": 4,
     "metadata": {},
     "output_type": "execute_result"
    }
   ],
   "source": [
    "# Ler o arquivo\n",
    "df = pd.read_csv(r'C:\\Users\\renat\\RenataAndradeSantana-Analise_de_Boa_Leitura\\GoodReads_100k_books.csv', encoding= 'utf-8-sig')\n",
    "df"
   ]
  },
  {
   "cell_type": "code",
   "execution_count": 5,
   "metadata": {},
   "outputs": [
    {
     "data": {
      "text/plain": [
       "(100000, 13)"
      ]
     },
     "execution_count": 5,
     "metadata": {},
     "output_type": "execute_result"
    }
   ],
   "source": [
    "# Verificando quantidade de linhas e colunas\n",
    "df.shape"
   ]
  },
  {
   "cell_type": "code",
   "execution_count": 6,
   "metadata": {},
   "outputs": [
    {
     "data": {
      "text/plain": [
       "Index(['author', 'bookformat', 'desc', 'genre', 'img', 'isbn', 'isbn13',\n",
       "       'link', 'pages', 'rating', 'reviews', 'title', 'totalratings'],\n",
       "      dtype='object')"
      ]
     },
     "execution_count": 6,
     "metadata": {},
     "output_type": "execute_result"
    }
   ],
   "source": [
    "# Verificando os nomes das colunas\n",
    "df.columns"
   ]
  },
  {
   "cell_type": "code",
   "execution_count": 7,
   "metadata": {},
   "outputs": [
    {
     "data": {
      "text/plain": [
       "author           object\n",
       "bookformat       object\n",
       "desc             object\n",
       "genre            object\n",
       "img              object\n",
       "isbn             object\n",
       "isbn13           object\n",
       "link             object\n",
       "pages             int64\n",
       "rating          float64\n",
       "reviews           int64\n",
       "title            object\n",
       "totalratings      int64\n",
       "dtype: object"
      ]
     },
     "execution_count": 7,
     "metadata": {},
     "output_type": "execute_result"
    }
   ],
   "source": [
    "# Verificando o tipo de dados \n",
    "df.dtypes"
   ]
  },
  {
   "cell_type": "code",
   "execution_count": 8,
   "metadata": {},
   "outputs": [
    {
     "name": "stdout",
     "output_type": "stream",
     "text": [
      "<class 'pandas.core.frame.DataFrame'>\n",
      "RangeIndex: 100000 entries, 0 to 99999\n",
      "Data columns (total 13 columns):\n",
      " #   Column        Non-Null Count   Dtype  \n",
      "---  ------        --------------   -----  \n",
      " 0   author        100000 non-null  object \n",
      " 1   bookformat    96772 non-null   object \n",
      " 2   desc          93228 non-null   object \n",
      " 3   genre         89533 non-null   object \n",
      " 4   img           96955 non-null   object \n",
      " 5   isbn          85518 non-null   object \n",
      " 6   isbn13        88565 non-null   object \n",
      " 7   link          100000 non-null  object \n",
      " 8   pages         100000 non-null  int64  \n",
      " 9   rating        100000 non-null  float64\n",
      " 10  reviews       100000 non-null  int64  \n",
      " 11  title         99999 non-null   object \n",
      " 12  totalratings  100000 non-null  int64  \n",
      "dtypes: float64(1), int64(3), object(9)\n",
      "memory usage: 9.9+ MB\n"
     ]
    }
   ],
   "source": [
    "# Informação mais detalhada do dataset\n",
    "df.info()"
   ]
  },
  {
   "cell_type": "code",
   "execution_count": 9,
   "metadata": {},
   "outputs": [
    {
     "data": {
      "text/plain": [
       "author              0\n",
       "bookformat       3228\n",
       "desc             6772\n",
       "genre           10467\n",
       "img              3045\n",
       "isbn            14482\n",
       "isbn13          11435\n",
       "link                0\n",
       "pages               0\n",
       "rating              0\n",
       "reviews             0\n",
       "title               1\n",
       "totalratings        0\n",
       "dtype: int64"
      ]
     },
     "execution_count": 9,
     "metadata": {},
     "output_type": "execute_result"
    }
   ],
   "source": [
    "# Consultando a quantidade de valores ausentes\n",
    "df.isnull().sum()"
   ]
  },
  {
   "cell_type": "code",
   "execution_count": 10,
   "metadata": {},
   "outputs": [],
   "source": [
    "# Exclusão de colunas consideradas desnecessária para o contexto\n",
    "df.drop(['bookformat', 'isbn', 'isbn13'], axis=1, inplace=True)"
   ]
  },
  {
   "cell_type": "code",
   "execution_count": 11,
   "metadata": {},
   "outputs": [
    {
     "data": {
      "text/plain": [
       "(100000, 10)"
      ]
     },
     "execution_count": 11,
     "metadata": {},
     "output_type": "execute_result"
    }
   ],
   "source": [
    "# Resultado da quantidade de colunas excluida\n",
    "df.shape"
   ]
  },
  {
   "cell_type": "code",
   "execution_count": 12,
   "metadata": {},
   "outputs": [],
   "source": [
    "# Deletar as linhas cujas valores são NAN na coluna title\n",
    "df.dropna(subset=['desc', 'genre', 'img', 'title'], inplace=True)"
   ]
  },
  {
   "cell_type": "code",
   "execution_count": 13,
   "metadata": {},
   "outputs": [
    {
     "data": {
      "text/plain": [
       "author          0\n",
       "desc            0\n",
       "genre           0\n",
       "img             0\n",
       "link            0\n",
       "pages           0\n",
       "rating          0\n",
       "reviews         0\n",
       "title           0\n",
       "totalratings    0\n",
       "dtype: int64"
      ]
     },
     "execution_count": 13,
     "metadata": {},
     "output_type": "execute_result"
    }
   ],
   "source": [
    "df.isnull().sum()"
   ]
  },
  {
   "cell_type": "code",
   "execution_count": 14,
   "metadata": {},
   "outputs": [],
   "source": [
    "# Verificar duplicatas\n",
    "duplicados = df.duplicated()"
   ]
  },
  {
   "cell_type": "code",
   "execution_count": 15,
   "metadata": {},
   "outputs": [
    {
     "data": {
      "text/html": [
       "<div>\n",
       "<style scoped>\n",
       "    .dataframe tbody tr th:only-of-type {\n",
       "        vertical-align: middle;\n",
       "    }\n",
       "\n",
       "    .dataframe tbody tr th {\n",
       "        vertical-align: top;\n",
       "    }\n",
       "\n",
       "    .dataframe thead th {\n",
       "        text-align: right;\n",
       "    }\n",
       "</style>\n",
       "<table border=\"1\" class=\"dataframe\">\n",
       "  <thead>\n",
       "    <tr style=\"text-align: right;\">\n",
       "      <th></th>\n",
       "      <th>author</th>\n",
       "      <th>desc</th>\n",
       "      <th>genre</th>\n",
       "      <th>img</th>\n",
       "      <th>link</th>\n",
       "      <th>pages</th>\n",
       "      <th>rating</th>\n",
       "      <th>reviews</th>\n",
       "      <th>title</th>\n",
       "      <th>totalratings</th>\n",
       "    </tr>\n",
       "  </thead>\n",
       "  <tbody>\n",
       "  </tbody>\n",
       "</table>\n",
       "</div>"
      ],
      "text/plain": [
       "Empty DataFrame\n",
       "Columns: [author, desc, genre, img, link, pages, rating, reviews, title, totalratings]\n",
       "Index: []"
      ]
     },
     "execution_count": 15,
     "metadata": {},
     "output_type": "execute_result"
    }
   ],
   "source": [
    "# Exibir as linhas duplicadas\n",
    "df[duplicados]"
   ]
  },
  {
   "cell_type": "code",
   "execution_count": 16,
   "metadata": {},
   "outputs": [
    {
     "data": {
      "text/plain": [
       "0"
      ]
     },
     "execution_count": 16,
     "metadata": {},
     "output_type": "execute_result"
    }
   ],
   "source": [
    "# Contar o número de linhas duplicadas\n",
    "numero_duplicados = df.duplicated().sum()\n",
    "numero_duplicados"
   ]
  },
  {
   "cell_type": "code",
   "execution_count": 17,
   "metadata": {},
   "outputs": [],
   "source": [
    "# Transformar o aquivo tratado em um novo\n",
    "df.to_csv('oodReads_books_limpo.csv', index=False)"
   ]
  }
 ],
 "metadata": {
  "kernelspec": {
   "display_name": "Python 3",
   "language": "python",
   "name": "python3"
  },
  "language_info": {
   "codemirror_mode": {
    "name": "ipython",
    "version": 3
   },
   "file_extension": ".py",
   "mimetype": "text/x-python",
   "name": "python",
   "nbconvert_exporter": "python",
   "pygments_lexer": "ipython3",
   "version": "3.10.11"
  }
 },
 "nbformat": 4,
 "nbformat_minor": 2
}
